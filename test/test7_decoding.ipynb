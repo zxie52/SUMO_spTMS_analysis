{
 "cells": [
  {
   "cell_type": "code",
   "execution_count": null,
   "id": "fdb4a029-9dc0-41b2-85b2-413accec999f",
   "metadata": {},
   "outputs": [],
   "source": [
    "# Import basic libraries\n",
    "import numpy as np\n",
    "import pandas as pd\n",
    "import pickle\n",
    "import os.path\n",
    "import matplotlib.pyplot as plt\n",
    "from joblib import Memory\n",
    "from joblib import Parallel, delayed\n",
    "import joblib\n",
    "from scipy import stats\n",
    "from pathlib import Path\n",
    "from sklearn.pipeline import Pipeline\n",
    "from sklearn.pipeline import make_pipeline\n",
    "from sklearn.preprocessing import StandardScaler\n",
    "from sklearn.linear_model import LogisticRegression\n",
    "from sklearn.model_selection import ShuffleSplit, cross_val_score\n",
    "from sklearn.discriminant_analysis import LinearDiscriminantAnalysis"
   ]
  },
  {
   "cell_type": "code",
   "execution_count": null,
   "id": "09874e8e-3a65-4741-9fe6-327e94e1d9a0",
   "metadata": {},
   "outputs": [],
   "source": [
    "# import mne\n",
    "import mne\n",
    "from mne.datasets import sample\n",
    "from mne.decoding import (SlidingEstimator, GeneralizingEstimator, Scaler,\n",
    "                          cross_val_multiscore, LinearModel, get_coef,\n",
    "                          Vectorizer, CSP)\n",
    "from mne import (read_epochs, combine_evoked, write_evokeds)\n",
    "from mne.stats import bonferroni_correction, fdr_correction\n",
    "from mne import io"
   ]
  },
  {
   "cell_type": "code",
   "execution_count": null,
   "id": "7f825885-2089-4be6-96f4-8e7437cbf032",
   "metadata": {},
   "outputs": [],
   "source": [
    "# load the basic folder names and the location of the eeg datasets\n",
    "folder_name_eeg = \"E:\\\\SUMO_further_data_pack_zx\\\\N2pc_IEM\\\\new_results\\\\eeg_before_IEM\\\\\"\n",
    "individual_name_eeg = 'SUMO_0102_before_iem_stim.set'\n",
    "eeg_file_name = str(folder_name_eeg + individual_name_eeg)\n",
    "\n",
    "# load the eeg files to the mne \n",
    "eeg = mne.read_epochs_eeglab(eeg_file_name)"
   ]
  },
  {
   "cell_type": "code",
   "execution_count": null,
   "id": "95797eba-09c4-449c-af77-1b6969baa06b",
   "metadata": {},
   "outputs": [],
   "source": [
    "# have the label as the test file\n",
    "df = pd.read_csv(\"cue102_label.csv\")\n",
    "df2 = df.copy()\n",
    "\n",
    "# change from 1-len(label) to 0 - len(label)-1(from MATLAB to python)\n",
    "df2.epoch = df.epoch - 1\n",
    "df2.bin = df.bin - 2\n",
    "\n",
    "# sort the row by epoch number for later decoding\n",
    "# df2 = df2.sort_values('epoch')\n",
    "\n",
    "# # extract eeg data from epoch number by different bins\n",
    "# eeg_bin0 = eeg[df2[df2.bin == 0].epoch].get_data()\n",
    "# print(\"The number of trials for SUMO 102 in cue1 condition in bin 0 is: \" + str(len(eeg_bin0)))\n",
    "# eeg_bin1 = eeg[df2[df2.bin == 1].epoch].get_data()\n",
    "# print(\"The number of trials for SUMO 102 in cue1 condition in bin 1 is: \" + str(len(eeg_bin1)))\n",
    "# eeg_bin2 = eeg[df2[df2.bin == 2].epoch].get_data()\n",
    "# print(\"The number of trials for SUMO 102 in cue1 condition in bin 2 is: \" + str(len(eeg_bin2)))\n",
    "# eeg_bin3 = eeg[df2[df2.bin == 3].epoch].get_data()\n",
    "# print(\"The number of trials for SUMO 102 in cue1 condition in bin 3 is: \" + str(len(eeg_bin3)))\n",
    "# eeg_bin4 = eeg[df2[df2.bin == 4].epoch].get_data()\n",
    "# print(\"The number of trials for SUMO 102 in cue1 condition in bin 4 is: \" + str(len(eeg_bin4)))\n",
    "# eeg_bin5 = eeg[df2[df2.bin == 5].epoch].get_data()\n",
    "# print(\"The number of trials for SUMO 102 in cue1 condition in bin 5 is: \" + str(len(eeg_bin5)))"
   ]
  },
  {
   "cell_type": "code",
   "execution_count": null,
   "id": "ecdbdf20-f1d9-4948-ad06-d61f59899e6e",
   "metadata": {},
   "outputs": [],
   "source": [
    "number_of_cpu = joblib.cpu_count()\n",
    "clf = make_pipeline(Scaler(eeg.info),\n",
    "                    Vectorizer(),\n",
    "                    LogisticRegression(solver='lbfgs'))\n",
    "# CSP\n",
    "csp = CSP(n_components=5, norm_trace=False, cov_est='concat', cov_method_params = dict)\n",
    "clf_csp = make_pipeline(csp, LinearModel(LogisticRegression(solver='lbfgs')))\n",
    "# Time_decoding\n",
    "clf_1 = make_pipeline(StandardScaler(), LogisticRegression(solver='lbfgs'))\n",
    "time_decode = SlidingEstimator(clf_1, n_jobs=number_of_cpu, scoring='roc_auc', verbose=True)"
   ]
  },
  {
   "cell_type": "code",
   "execution_count": null,
   "id": "ddb27927-8abc-4918-8a41-92177d7721db",
   "metadata": {},
   "outputs": [],
   "source": [
    "score_mean = np.empty([6,1000])\n",
    "for i in range(6):\n",
    "    df3 = df2.copy()\n",
    "    df3.loc[df3['bin'] != i, 'bin'] = 9\n",
    "    eeg2 = eeg[df3.epoch].get_data()\n",
    "    score = cross_val_multiscore (time_decode, eeg2, df3.bin, cv = 10, n_jobs=number_of_cpu)\n",
    "    score_mean[i] = np.mean(score, axis=0)\n",
    "    \n",
    "p = np.mean(score_mean, axis=0)"
   ]
  },
  {
   "cell_type": "code",
   "execution_count": null,
   "id": "c8bb954a-caea-46cb-9d05-c7c749ccbb7c",
   "metadata": {},
   "outputs": [],
   "source": [
    "plt.figure(figsize=(15, 6), dpi=80)\n",
    "plt.plot(eeg.times, p, 'b', label='Scene_post')\n",
    "xmin, xmax = plt.xlim()\n",
    "# plt.hlines(0.5, xmin, xmax, linestyle='--', colors='k',\n",
    "#            label='chance', linewidth=2)\n",
    "#plt.hlines(threshold_fdr_f_p, xmin, xmax, linestyle='--', colors='b',\n",
    "           #label='p=0.05 (FDR)', linewidth=2)\n",
    "plt.legend()\n",
    "plt.xlabel(\"Time (sec)\")\n",
    "plt.ylabel(\"AUC\")\n",
    "# plt.savefig(\"E4.pdf\", format=\"pdf\", bbox_inches=\"tight\")\n",
    "plt.show()"
   ]
  }
 ],
 "metadata": {
  "kernelspec": {
   "display_name": "Python 3 (ipykernel)",
   "language": "python",
   "name": "python3"
  },
  "language_info": {
   "codemirror_mode": {
    "name": "ipython",
    "version": 3
   },
   "file_extension": ".py",
   "mimetype": "text/x-python",
   "name": "python",
   "nbconvert_exporter": "python",
   "pygments_lexer": "ipython3",
   "version": "3.9.5"
  }
 },
 "nbformat": 4,
 "nbformat_minor": 5
}
